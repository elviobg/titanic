{
  "nbformat": 4,
  "nbformat_minor": 0,
  "metadata": {
    "colab": {
      "name": "Titanic.ipynb",
      "provenance": [],
      "authorship_tag": "ABX9TyOkAm3SCtnalThX91i8zUhr",
      "include_colab_link": true
    },
    "kernelspec": {
      "name": "python3",
      "display_name": "Python 3"
    }
  },
  "cells": [
    {
      "cell_type": "markdown",
      "metadata": {
        "id": "view-in-github",
        "colab_type": "text"
      },
      "source": [
        "<a href=\"https://colab.research.google.com/github/elviobg/titanic/blob/main/Titanic.ipynb\" target=\"_parent\"><img src=\"https://colab.research.google.com/assets/colab-badge.svg\" alt=\"Open In Colab\"/></a>"
      ]
    },
    {
      "cell_type": "code",
      "metadata": {
        "colab": {
          "base_uri": "https://localhost:8080/"
        },
        "id": "1OmEISgVZpsW",
        "outputId": "b8e2e2e3-7a28-4cf8-ebea-23ae2b9579f6"
      },
      "source": [
        "from google.colab import drive\n",
        "from google.colab import files\n",
        "drive.mount('/content/drive')\n",
        "\n",
        "import os\n",
        "ROOT_PATH = '/content/drive/My Drive/Colab Notebooks/Titanic/'\n",
        "DATASETS_PATH = '/content/drive/My Drive/Colab Notebooks/Titanic/dataset/'\n",
        "os.chdir(ROOT_PATH)"
      ],
      "execution_count": 1,
      "outputs": [
        {
          "output_type": "stream",
          "text": [
            "Drive already mounted at /content/drive; to attempt to forcibly remount, call drive.mount(\"/content/drive\", force_remount=True).\n"
          ],
          "name": "stdout"
        }
      ]
    },
    {
      "cell_type": "code",
      "metadata": {
        "id": "n3b5C2EUcWOQ"
      },
      "source": [
        "import pandas as pd\n",
        "import numpy as np"
      ],
      "execution_count": 2,
      "outputs": []
    },
    {
      "cell_type": "code",
      "metadata": {
        "colab": {
          "base_uri": "https://localhost:8080/",
          "height": 221
        },
        "id": "KlE5oSjHZttg",
        "outputId": "1b30e9fb-115e-4f9c-d6bc-6b1257323357"
      },
      "source": [
        "train_original = pd.read_csv(DATASETS_PATH+'train.csv')\n",
        "test_original = pd.read_csv(DATASETS_PATH+'test.csv')\n",
        "print(\"Data loaded...\")\n",
        "train_original.head()"
      ],
      "execution_count": 3,
      "outputs": [
        {
          "output_type": "stream",
          "text": [
            "Data loaded...\n"
          ],
          "name": "stdout"
        },
        {
          "output_type": "execute_result",
          "data": {
            "text/html": [
              "<div>\n",
              "<style scoped>\n",
              "    .dataframe tbody tr th:only-of-type {\n",
              "        vertical-align: middle;\n",
              "    }\n",
              "\n",
              "    .dataframe tbody tr th {\n",
              "        vertical-align: top;\n",
              "    }\n",
              "\n",
              "    .dataframe thead th {\n",
              "        text-align: right;\n",
              "    }\n",
              "</style>\n",
              "<table border=\"1\" class=\"dataframe\">\n",
              "  <thead>\n",
              "    <tr style=\"text-align: right;\">\n",
              "      <th></th>\n",
              "      <th>PassengerId</th>\n",
              "      <th>Survived</th>\n",
              "      <th>Pclass</th>\n",
              "      <th>Name</th>\n",
              "      <th>Sex</th>\n",
              "      <th>Age</th>\n",
              "      <th>SibSp</th>\n",
              "      <th>Parch</th>\n",
              "      <th>Ticket</th>\n",
              "      <th>Fare</th>\n",
              "      <th>Cabin</th>\n",
              "      <th>Embarked</th>\n",
              "    </tr>\n",
              "  </thead>\n",
              "  <tbody>\n",
              "    <tr>\n",
              "      <th>0</th>\n",
              "      <td>1</td>\n",
              "      <td>0</td>\n",
              "      <td>3</td>\n",
              "      <td>Braund, Mr. Owen Harris</td>\n",
              "      <td>male</td>\n",
              "      <td>22.0</td>\n",
              "      <td>1</td>\n",
              "      <td>0</td>\n",
              "      <td>A/5 21171</td>\n",
              "      <td>7.2500</td>\n",
              "      <td>NaN</td>\n",
              "      <td>S</td>\n",
              "    </tr>\n",
              "    <tr>\n",
              "      <th>1</th>\n",
              "      <td>2</td>\n",
              "      <td>1</td>\n",
              "      <td>1</td>\n",
              "      <td>Cumings, Mrs. John Bradley (Florence Briggs Th...</td>\n",
              "      <td>female</td>\n",
              "      <td>38.0</td>\n",
              "      <td>1</td>\n",
              "      <td>0</td>\n",
              "      <td>PC 17599</td>\n",
              "      <td>71.2833</td>\n",
              "      <td>C85</td>\n",
              "      <td>C</td>\n",
              "    </tr>\n",
              "    <tr>\n",
              "      <th>2</th>\n",
              "      <td>3</td>\n",
              "      <td>1</td>\n",
              "      <td>3</td>\n",
              "      <td>Heikkinen, Miss. Laina</td>\n",
              "      <td>female</td>\n",
              "      <td>26.0</td>\n",
              "      <td>0</td>\n",
              "      <td>0</td>\n",
              "      <td>STON/O2. 3101282</td>\n",
              "      <td>7.9250</td>\n",
              "      <td>NaN</td>\n",
              "      <td>S</td>\n",
              "    </tr>\n",
              "    <tr>\n",
              "      <th>3</th>\n",
              "      <td>4</td>\n",
              "      <td>1</td>\n",
              "      <td>1</td>\n",
              "      <td>Futrelle, Mrs. Jacques Heath (Lily May Peel)</td>\n",
              "      <td>female</td>\n",
              "      <td>35.0</td>\n",
              "      <td>1</td>\n",
              "      <td>0</td>\n",
              "      <td>113803</td>\n",
              "      <td>53.1000</td>\n",
              "      <td>C123</td>\n",
              "      <td>S</td>\n",
              "    </tr>\n",
              "    <tr>\n",
              "      <th>4</th>\n",
              "      <td>5</td>\n",
              "      <td>0</td>\n",
              "      <td>3</td>\n",
              "      <td>Allen, Mr. William Henry</td>\n",
              "      <td>male</td>\n",
              "      <td>35.0</td>\n",
              "      <td>0</td>\n",
              "      <td>0</td>\n",
              "      <td>373450</td>\n",
              "      <td>8.0500</td>\n",
              "      <td>NaN</td>\n",
              "      <td>S</td>\n",
              "    </tr>\n",
              "  </tbody>\n",
              "</table>\n",
              "</div>"
            ],
            "text/plain": [
              "   PassengerId  Survived  Pclass  ...     Fare Cabin  Embarked\n",
              "0            1         0       3  ...   7.2500   NaN         S\n",
              "1            2         1       1  ...  71.2833   C85         C\n",
              "2            3         1       3  ...   7.9250   NaN         S\n",
              "3            4         1       1  ...  53.1000  C123         S\n",
              "4            5         0       3  ...   8.0500   NaN         S\n",
              "\n",
              "[5 rows x 12 columns]"
            ]
          },
          "metadata": {
            "tags": []
          },
          "execution_count": 3
        }
      ]
    },
    {
      "cell_type": "code",
      "metadata": {
        "id": "7r8QX94rdgen"
      },
      "source": [
        "train_original = train_original.rename(columns = {'Survived': 'survived', \n",
        "                                                  'Pclass': 'pclass', \n",
        "                                                  'Name': 'name', \n",
        "                                                  'Sex': 'sex', \n",
        "                                                  'Age': 'age', \n",
        "                                                  'SibSp': 'sibsp',\n",
        "                                                  'Parch': 'parch', \n",
        "                                                  'Ticket': 'ticket',\n",
        "                                                  'Fare': 'fare', \n",
        "                                                  'Embarked': 'embarked'}, inplace = False)\n",
        "\n",
        "test_original = test_original.rename(columns = {'Survived': 'survived', \n",
        "                                                  'Pclass': 'pclass', \n",
        "                                                  'Name': 'name', \n",
        "                                                  'Sex': 'sex', \n",
        "                                                  'Age': 'age', \n",
        "                                                  'SibSp': 'sibsp',\n",
        "                                                  'Parch': 'parch', \n",
        "                                                  'Ticket': 'ticket',\n",
        "                                                  'Fare': 'fare',                                                   \n",
        "                                                  'Embarked': 'embarked'}, inplace = False)\n",
        "\n",
        "train_original = train_original.drop(['PassengerId','Cabin'], axis=1)\n",
        "test_original = test_original.drop(['Cabin'], axis=1)"
      ],
      "execution_count": 4,
      "outputs": []
    },
    {
      "cell_type": "code",
      "metadata": {
        "colab": {
          "base_uri": "https://localhost:8080/"
        },
        "id": "3tHKnDj6dmnm",
        "outputId": "91d1918c-9f98-4904-b859-8dd21144ee81"
      },
      "source": [
        "train_original.info()\n",
        "test_original.info()"
      ],
      "execution_count": 5,
      "outputs": [
        {
          "output_type": "stream",
          "text": [
            "<class 'pandas.core.frame.DataFrame'>\n",
            "RangeIndex: 891 entries, 0 to 890\n",
            "Data columns (total 10 columns):\n",
            " #   Column    Non-Null Count  Dtype  \n",
            "---  ------    --------------  -----  \n",
            " 0   survived  891 non-null    int64  \n",
            " 1   pclass    891 non-null    int64  \n",
            " 2   name      891 non-null    object \n",
            " 3   sex       891 non-null    object \n",
            " 4   age       714 non-null    float64\n",
            " 5   sibsp     891 non-null    int64  \n",
            " 6   parch     891 non-null    int64  \n",
            " 7   ticket    891 non-null    object \n",
            " 8   fare      891 non-null    float64\n",
            " 9   embarked  889 non-null    object \n",
            "dtypes: float64(2), int64(4), object(4)\n",
            "memory usage: 69.7+ KB\n",
            "<class 'pandas.core.frame.DataFrame'>\n",
            "RangeIndex: 418 entries, 0 to 417\n",
            "Data columns (total 10 columns):\n",
            " #   Column       Non-Null Count  Dtype  \n",
            "---  ------       --------------  -----  \n",
            " 0   PassengerId  418 non-null    int64  \n",
            " 1   pclass       418 non-null    int64  \n",
            " 2   name         418 non-null    object \n",
            " 3   sex          418 non-null    object \n",
            " 4   age          332 non-null    float64\n",
            " 5   sibsp        418 non-null    int64  \n",
            " 6   parch        418 non-null    int64  \n",
            " 7   ticket       418 non-null    object \n",
            " 8   fare         417 non-null    float64\n",
            " 9   embarked     418 non-null    object \n",
            "dtypes: float64(2), int64(4), object(4)\n",
            "memory usage: 32.8+ KB\n"
          ],
          "name": "stdout"
        }
      ]
    },
    {
      "cell_type": "code",
      "metadata": {
        "colab": {
          "base_uri": "https://localhost:8080/",
          "height": 204
        },
        "id": "eKboj96rdm4s",
        "outputId": "eeca77a6-c4fa-4fb6-992e-bee21b2fb7ad"
      },
      "source": [
        "title_mapping = {\"Mr\": 1, \"Miss\": 2, \"Mrs\": 3, \"Master\": 4, \"Rare\": 5}\n",
        "def organize_titles(dataset):\n",
        "  dataset['title'] = dataset.name.str.extract(' ([A-Za-z]+)\\.', expand=False)\n",
        "  dataset['title'] = dataset['title'].map(title_mapping)\n",
        "  dataset['title'] = dataset['title'].fillna(0)\n",
        "\n",
        "organize_titles(train_original)\n",
        "organize_titles(test_original)\n",
        "train_original = train_original.drop(['name'], axis=1)\n",
        "test_original = test_original.drop(['name'], axis=1)\n",
        "train_original.head()"
      ],
      "execution_count": 6,
      "outputs": [
        {
          "output_type": "execute_result",
          "data": {
            "text/html": [
              "<div>\n",
              "<style scoped>\n",
              "    .dataframe tbody tr th:only-of-type {\n",
              "        vertical-align: middle;\n",
              "    }\n",
              "\n",
              "    .dataframe tbody tr th {\n",
              "        vertical-align: top;\n",
              "    }\n",
              "\n",
              "    .dataframe thead th {\n",
              "        text-align: right;\n",
              "    }\n",
              "</style>\n",
              "<table border=\"1\" class=\"dataframe\">\n",
              "  <thead>\n",
              "    <tr style=\"text-align: right;\">\n",
              "      <th></th>\n",
              "      <th>survived</th>\n",
              "      <th>pclass</th>\n",
              "      <th>sex</th>\n",
              "      <th>age</th>\n",
              "      <th>sibsp</th>\n",
              "      <th>parch</th>\n",
              "      <th>ticket</th>\n",
              "      <th>fare</th>\n",
              "      <th>embarked</th>\n",
              "      <th>title</th>\n",
              "    </tr>\n",
              "  </thead>\n",
              "  <tbody>\n",
              "    <tr>\n",
              "      <th>0</th>\n",
              "      <td>0</td>\n",
              "      <td>3</td>\n",
              "      <td>male</td>\n",
              "      <td>22.0</td>\n",
              "      <td>1</td>\n",
              "      <td>0</td>\n",
              "      <td>A/5 21171</td>\n",
              "      <td>7.2500</td>\n",
              "      <td>S</td>\n",
              "      <td>1.0</td>\n",
              "    </tr>\n",
              "    <tr>\n",
              "      <th>1</th>\n",
              "      <td>1</td>\n",
              "      <td>1</td>\n",
              "      <td>female</td>\n",
              "      <td>38.0</td>\n",
              "      <td>1</td>\n",
              "      <td>0</td>\n",
              "      <td>PC 17599</td>\n",
              "      <td>71.2833</td>\n",
              "      <td>C</td>\n",
              "      <td>3.0</td>\n",
              "    </tr>\n",
              "    <tr>\n",
              "      <th>2</th>\n",
              "      <td>1</td>\n",
              "      <td>3</td>\n",
              "      <td>female</td>\n",
              "      <td>26.0</td>\n",
              "      <td>0</td>\n",
              "      <td>0</td>\n",
              "      <td>STON/O2. 3101282</td>\n",
              "      <td>7.9250</td>\n",
              "      <td>S</td>\n",
              "      <td>2.0</td>\n",
              "    </tr>\n",
              "    <tr>\n",
              "      <th>3</th>\n",
              "      <td>1</td>\n",
              "      <td>1</td>\n",
              "      <td>female</td>\n",
              "      <td>35.0</td>\n",
              "      <td>1</td>\n",
              "      <td>0</td>\n",
              "      <td>113803</td>\n",
              "      <td>53.1000</td>\n",
              "      <td>S</td>\n",
              "      <td>3.0</td>\n",
              "    </tr>\n",
              "    <tr>\n",
              "      <th>4</th>\n",
              "      <td>0</td>\n",
              "      <td>3</td>\n",
              "      <td>male</td>\n",
              "      <td>35.0</td>\n",
              "      <td>0</td>\n",
              "      <td>0</td>\n",
              "      <td>373450</td>\n",
              "      <td>8.0500</td>\n",
              "      <td>S</td>\n",
              "      <td>1.0</td>\n",
              "    </tr>\n",
              "  </tbody>\n",
              "</table>\n",
              "</div>"
            ],
            "text/plain": [
              "   survived  pclass     sex   age  ...            ticket     fare embarked  title\n",
              "0         0       3    male  22.0  ...         A/5 21171   7.2500        S    1.0\n",
              "1         1       1  female  38.0  ...          PC 17599  71.2833        C    3.0\n",
              "2         1       3  female  26.0  ...  STON/O2. 3101282   7.9250        S    2.0\n",
              "3         1       1  female  35.0  ...            113803  53.1000        S    3.0\n",
              "4         0       3    male  35.0  ...            373450   8.0500        S    1.0\n",
              "\n",
              "[5 rows x 10 columns]"
            ]
          },
          "metadata": {
            "tags": []
          },
          "execution_count": 6
        }
      ]
    },
    {
      "cell_type": "code",
      "metadata": {
        "id": "zI5AsH1LdzFg"
      },
      "source": [
        "train_original['sex'] = train_original['sex'].map( {'female': 1, 'male': 0} ).astype(int)\n",
        "test_original['sex'] = test_original['sex'].map( {'female': 1, 'male': 0} ).astype(int)"
      ],
      "execution_count": 7,
      "outputs": []
    },
    {
      "cell_type": "code",
      "metadata": {
        "colab": {
          "base_uri": "https://localhost:8080/"
        },
        "id": "TzcSCNPDdzbL",
        "outputId": "4b54e4ef-0750-4c88-b6e0-77d5a686498a"
      },
      "source": [
        "def age_fill(dataset):\n",
        "  guess_ages = np.zeros((2,3))\n",
        "  for i in range(0, 2):\n",
        "    for j in range(0, 3):\n",
        "      guess_df = dataset[(dataset['sex'] == i) & (dataset['pclass'] == j+1)]['age'].dropna()\n",
        "      age_guess = guess_df.median()\n",
        "      guess_ages[i,j] = int( age_guess/0.5 + 0.5 ) * 0.5\n",
        "        \n",
        "  for i in range(0, 2):\n",
        "    for j in range(0, 3):\n",
        "      dataset.loc[ (dataset.age.isnull()) & (dataset.sex == i) & (dataset.pclass == j+1),'age'] = guess_ages[i,j]\n",
        "  dataset['age'] = dataset['age'].astype(int)\n",
        "\n",
        "def age_organize(dataset):\n",
        "  dataset.loc[ dataset['age'] <= 16, 'age'] = 0\n",
        "  dataset.loc[(dataset['age'] > 16) & (dataset['age'] <= 32), 'age'] = 1\n",
        "  dataset.loc[(dataset['age'] > 32) & (dataset['age'] <= 48), 'age'] = 2\n",
        "  dataset.loc[(dataset['age'] > 48) & (dataset['age'] <= 64), 'age'] = 3\n",
        "  dataset.loc[ dataset['age'] > 64, 'age'] = 4\n",
        "  dataset['age*class'] = dataset.age * dataset.pclass\n",
        "\n",
        "age_fill(train_original)\n",
        "age_organize(train_original)\n",
        "\n",
        "age_fill(test_original)\n",
        "age_organize(test_original)\n",
        "\n",
        "train_original.info()\n",
        "test_original.info()"
      ],
      "execution_count": 8,
      "outputs": [
        {
          "output_type": "stream",
          "text": [
            "<class 'pandas.core.frame.DataFrame'>\n",
            "RangeIndex: 891 entries, 0 to 890\n",
            "Data columns (total 11 columns):\n",
            " #   Column     Non-Null Count  Dtype  \n",
            "---  ------     --------------  -----  \n",
            " 0   survived   891 non-null    int64  \n",
            " 1   pclass     891 non-null    int64  \n",
            " 2   sex        891 non-null    int64  \n",
            " 3   age        891 non-null    int64  \n",
            " 4   sibsp      891 non-null    int64  \n",
            " 5   parch      891 non-null    int64  \n",
            " 6   ticket     891 non-null    object \n",
            " 7   fare       891 non-null    float64\n",
            " 8   embarked   889 non-null    object \n",
            " 9   title      891 non-null    float64\n",
            " 10  age*class  891 non-null    int64  \n",
            "dtypes: float64(2), int64(7), object(2)\n",
            "memory usage: 76.7+ KB\n",
            "<class 'pandas.core.frame.DataFrame'>\n",
            "RangeIndex: 418 entries, 0 to 417\n",
            "Data columns (total 11 columns):\n",
            " #   Column       Non-Null Count  Dtype  \n",
            "---  ------       --------------  -----  \n",
            " 0   PassengerId  418 non-null    int64  \n",
            " 1   pclass       418 non-null    int64  \n",
            " 2   sex          418 non-null    int64  \n",
            " 3   age          418 non-null    int64  \n",
            " 4   sibsp        418 non-null    int64  \n",
            " 5   parch        418 non-null    int64  \n",
            " 6   ticket       418 non-null    object \n",
            " 7   fare         417 non-null    float64\n",
            " 8   embarked     418 non-null    object \n",
            " 9   title        418 non-null    float64\n",
            " 10  age*class    418 non-null    int64  \n",
            "dtypes: float64(2), int64(7), object(2)\n",
            "memory usage: 36.0+ KB\n"
          ],
          "name": "stdout"
        }
      ]
    },
    {
      "cell_type": "code",
      "metadata": {
        "colab": {
          "base_uri": "https://localhost:8080/",
          "height": 204
        },
        "id": "sSpYd-_cd2w8",
        "outputId": "701df5af-da78-4120-d8f6-798b457de63c"
      },
      "source": [
        "train_original['familysize'] = train_original['sibsp'] + train_original['parch'] + 1\n",
        "test_original['familysize'] = test_original['sibsp'] + test_original['parch'] + 1\n",
        "\n",
        "def familly(dataset):\n",
        "    dataset['isalone'] = 0\n",
        "    dataset.loc[dataset['familysize'] == 1, 'isalone'] = 1\n",
        "\n",
        "familly(train_original)\n",
        "familly(test_original)\n",
        "train_original = train_original.drop(['sibsp', 'parch', 'familysize'], axis=1)\n",
        "test_original = test_original.drop(['sibsp', 'parch', 'familysize'], axis=1)\n",
        "train_original.head()"
      ],
      "execution_count": 9,
      "outputs": [
        {
          "output_type": "execute_result",
          "data": {
            "text/html": [
              "<div>\n",
              "<style scoped>\n",
              "    .dataframe tbody tr th:only-of-type {\n",
              "        vertical-align: middle;\n",
              "    }\n",
              "\n",
              "    .dataframe tbody tr th {\n",
              "        vertical-align: top;\n",
              "    }\n",
              "\n",
              "    .dataframe thead th {\n",
              "        text-align: right;\n",
              "    }\n",
              "</style>\n",
              "<table border=\"1\" class=\"dataframe\">\n",
              "  <thead>\n",
              "    <tr style=\"text-align: right;\">\n",
              "      <th></th>\n",
              "      <th>survived</th>\n",
              "      <th>pclass</th>\n",
              "      <th>sex</th>\n",
              "      <th>age</th>\n",
              "      <th>ticket</th>\n",
              "      <th>fare</th>\n",
              "      <th>embarked</th>\n",
              "      <th>title</th>\n",
              "      <th>age*class</th>\n",
              "      <th>isalone</th>\n",
              "    </tr>\n",
              "  </thead>\n",
              "  <tbody>\n",
              "    <tr>\n",
              "      <th>0</th>\n",
              "      <td>0</td>\n",
              "      <td>3</td>\n",
              "      <td>0</td>\n",
              "      <td>1</td>\n",
              "      <td>A/5 21171</td>\n",
              "      <td>7.2500</td>\n",
              "      <td>S</td>\n",
              "      <td>1.0</td>\n",
              "      <td>3</td>\n",
              "      <td>0</td>\n",
              "    </tr>\n",
              "    <tr>\n",
              "      <th>1</th>\n",
              "      <td>1</td>\n",
              "      <td>1</td>\n",
              "      <td>1</td>\n",
              "      <td>2</td>\n",
              "      <td>PC 17599</td>\n",
              "      <td>71.2833</td>\n",
              "      <td>C</td>\n",
              "      <td>3.0</td>\n",
              "      <td>2</td>\n",
              "      <td>0</td>\n",
              "    </tr>\n",
              "    <tr>\n",
              "      <th>2</th>\n",
              "      <td>1</td>\n",
              "      <td>3</td>\n",
              "      <td>1</td>\n",
              "      <td>1</td>\n",
              "      <td>STON/O2. 3101282</td>\n",
              "      <td>7.9250</td>\n",
              "      <td>S</td>\n",
              "      <td>2.0</td>\n",
              "      <td>3</td>\n",
              "      <td>1</td>\n",
              "    </tr>\n",
              "    <tr>\n",
              "      <th>3</th>\n",
              "      <td>1</td>\n",
              "      <td>1</td>\n",
              "      <td>1</td>\n",
              "      <td>2</td>\n",
              "      <td>113803</td>\n",
              "      <td>53.1000</td>\n",
              "      <td>S</td>\n",
              "      <td>3.0</td>\n",
              "      <td>2</td>\n",
              "      <td>0</td>\n",
              "    </tr>\n",
              "    <tr>\n",
              "      <th>4</th>\n",
              "      <td>0</td>\n",
              "      <td>3</td>\n",
              "      <td>0</td>\n",
              "      <td>2</td>\n",
              "      <td>373450</td>\n",
              "      <td>8.0500</td>\n",
              "      <td>S</td>\n",
              "      <td>1.0</td>\n",
              "      <td>6</td>\n",
              "      <td>1</td>\n",
              "    </tr>\n",
              "  </tbody>\n",
              "</table>\n",
              "</div>"
            ],
            "text/plain": [
              "   survived  pclass  sex  age  ... embarked  title age*class  isalone\n",
              "0         0       3    0    1  ...        S    1.0         3        0\n",
              "1         1       1    1    2  ...        C    3.0         2        0\n",
              "2         1       3    1    1  ...        S    2.0         3        1\n",
              "3         1       1    1    2  ...        S    3.0         2        0\n",
              "4         0       3    0    2  ...        S    1.0         6        1\n",
              "\n",
              "[5 rows x 10 columns]"
            ]
          },
          "metadata": {
            "tags": []
          },
          "execution_count": 9
        }
      ]
    },
    {
      "cell_type": "code",
      "metadata": {
        "colab": {
          "base_uri": "https://localhost:8080/",
          "height": 204
        },
        "id": "0WlbyV6pd8Ej",
        "outputId": "6935a6cf-8475-4910-baea-16f83e32b674"
      },
      "source": [
        "def embark(dataset, freq_port):\n",
        "  dataset['embarked'] = dataset['embarked'].fillna(freq_port)\n",
        "  dataset['embarked'] = dataset['embarked'].map( {'S': 0, 'C': 1, 'Q': 2} ).astype(int)\n",
        "\n",
        "freq_port = train_original.embarked.dropna().mode()[0]\n",
        "embark(train_original, freq_port)\n",
        "embark(test_original, freq_port)\n",
        "train_original.head()"
      ],
      "execution_count": 10,
      "outputs": [
        {
          "output_type": "execute_result",
          "data": {
            "text/html": [
              "<div>\n",
              "<style scoped>\n",
              "    .dataframe tbody tr th:only-of-type {\n",
              "        vertical-align: middle;\n",
              "    }\n",
              "\n",
              "    .dataframe tbody tr th {\n",
              "        vertical-align: top;\n",
              "    }\n",
              "\n",
              "    .dataframe thead th {\n",
              "        text-align: right;\n",
              "    }\n",
              "</style>\n",
              "<table border=\"1\" class=\"dataframe\">\n",
              "  <thead>\n",
              "    <tr style=\"text-align: right;\">\n",
              "      <th></th>\n",
              "      <th>survived</th>\n",
              "      <th>pclass</th>\n",
              "      <th>sex</th>\n",
              "      <th>age</th>\n",
              "      <th>ticket</th>\n",
              "      <th>fare</th>\n",
              "      <th>embarked</th>\n",
              "      <th>title</th>\n",
              "      <th>age*class</th>\n",
              "      <th>isalone</th>\n",
              "    </tr>\n",
              "  </thead>\n",
              "  <tbody>\n",
              "    <tr>\n",
              "      <th>0</th>\n",
              "      <td>0</td>\n",
              "      <td>3</td>\n",
              "      <td>0</td>\n",
              "      <td>1</td>\n",
              "      <td>A/5 21171</td>\n",
              "      <td>7.2500</td>\n",
              "      <td>0</td>\n",
              "      <td>1.0</td>\n",
              "      <td>3</td>\n",
              "      <td>0</td>\n",
              "    </tr>\n",
              "    <tr>\n",
              "      <th>1</th>\n",
              "      <td>1</td>\n",
              "      <td>1</td>\n",
              "      <td>1</td>\n",
              "      <td>2</td>\n",
              "      <td>PC 17599</td>\n",
              "      <td>71.2833</td>\n",
              "      <td>1</td>\n",
              "      <td>3.0</td>\n",
              "      <td>2</td>\n",
              "      <td>0</td>\n",
              "    </tr>\n",
              "    <tr>\n",
              "      <th>2</th>\n",
              "      <td>1</td>\n",
              "      <td>3</td>\n",
              "      <td>1</td>\n",
              "      <td>1</td>\n",
              "      <td>STON/O2. 3101282</td>\n",
              "      <td>7.9250</td>\n",
              "      <td>0</td>\n",
              "      <td>2.0</td>\n",
              "      <td>3</td>\n",
              "      <td>1</td>\n",
              "    </tr>\n",
              "    <tr>\n",
              "      <th>3</th>\n",
              "      <td>1</td>\n",
              "      <td>1</td>\n",
              "      <td>1</td>\n",
              "      <td>2</td>\n",
              "      <td>113803</td>\n",
              "      <td>53.1000</td>\n",
              "      <td>0</td>\n",
              "      <td>3.0</td>\n",
              "      <td>2</td>\n",
              "      <td>0</td>\n",
              "    </tr>\n",
              "    <tr>\n",
              "      <th>4</th>\n",
              "      <td>0</td>\n",
              "      <td>3</td>\n",
              "      <td>0</td>\n",
              "      <td>2</td>\n",
              "      <td>373450</td>\n",
              "      <td>8.0500</td>\n",
              "      <td>0</td>\n",
              "      <td>1.0</td>\n",
              "      <td>6</td>\n",
              "      <td>1</td>\n",
              "    </tr>\n",
              "  </tbody>\n",
              "</table>\n",
              "</div>"
            ],
            "text/plain": [
              "   survived  pclass  sex  age  ... embarked  title  age*class  isalone\n",
              "0         0       3    0    1  ...        0    1.0          3        0\n",
              "1         1       1    1    2  ...        1    3.0          2        0\n",
              "2         1       3    1    1  ...        0    2.0          3        1\n",
              "3         1       1    1    2  ...        0    3.0          2        0\n",
              "4         0       3    0    2  ...        0    1.0          6        1\n",
              "\n",
              "[5 rows x 10 columns]"
            ]
          },
          "metadata": {
            "tags": []
          },
          "execution_count": 10
        }
      ]
    },
    {
      "cell_type": "code",
      "metadata": {
        "colab": {
          "base_uri": "https://localhost:8080/",
          "height": 204
        },
        "id": "gKnXK7wFeA7c",
        "outputId": "1a44cf95-1111-4cb8-8f71-2c10fe707cb9"
      },
      "source": [
        "def fare_organize(dataset):\n",
        "  dataset.loc[ dataset['fare'] <= 7.91, 'fare'] = 0\n",
        "  dataset.loc[(dataset['fare'] > 7.91) & (dataset['fare'] <= 14.454), 'fare'] = 1\n",
        "  dataset.loc[(dataset['fare'] > 14.454) & (dataset['fare'] <= 31), 'fare']   = 2\n",
        "  dataset.loc[ dataset['fare'] > 31, 'fare'] = 3\n",
        " \n",
        "\n",
        "train_original['fare'].fillna(train_original['fare'].dropna().median(), inplace=True)\n",
        "test_original['fare'].fillna(test_original['fare'].dropna().median(), inplace=True)\n",
        "fare_organize(train_original)\n",
        "fare_organize(test_original)\n",
        "train_original.head()"
      ],
      "execution_count": 11,
      "outputs": [
        {
          "output_type": "execute_result",
          "data": {
            "text/html": [
              "<div>\n",
              "<style scoped>\n",
              "    .dataframe tbody tr th:only-of-type {\n",
              "        vertical-align: middle;\n",
              "    }\n",
              "\n",
              "    .dataframe tbody tr th {\n",
              "        vertical-align: top;\n",
              "    }\n",
              "\n",
              "    .dataframe thead th {\n",
              "        text-align: right;\n",
              "    }\n",
              "</style>\n",
              "<table border=\"1\" class=\"dataframe\">\n",
              "  <thead>\n",
              "    <tr style=\"text-align: right;\">\n",
              "      <th></th>\n",
              "      <th>survived</th>\n",
              "      <th>pclass</th>\n",
              "      <th>sex</th>\n",
              "      <th>age</th>\n",
              "      <th>ticket</th>\n",
              "      <th>fare</th>\n",
              "      <th>embarked</th>\n",
              "      <th>title</th>\n",
              "      <th>age*class</th>\n",
              "      <th>isalone</th>\n",
              "    </tr>\n",
              "  </thead>\n",
              "  <tbody>\n",
              "    <tr>\n",
              "      <th>0</th>\n",
              "      <td>0</td>\n",
              "      <td>3</td>\n",
              "      <td>0</td>\n",
              "      <td>1</td>\n",
              "      <td>A/5 21171</td>\n",
              "      <td>0.0</td>\n",
              "      <td>0</td>\n",
              "      <td>1.0</td>\n",
              "      <td>3</td>\n",
              "      <td>0</td>\n",
              "    </tr>\n",
              "    <tr>\n",
              "      <th>1</th>\n",
              "      <td>1</td>\n",
              "      <td>1</td>\n",
              "      <td>1</td>\n",
              "      <td>2</td>\n",
              "      <td>PC 17599</td>\n",
              "      <td>3.0</td>\n",
              "      <td>1</td>\n",
              "      <td>3.0</td>\n",
              "      <td>2</td>\n",
              "      <td>0</td>\n",
              "    </tr>\n",
              "    <tr>\n",
              "      <th>2</th>\n",
              "      <td>1</td>\n",
              "      <td>3</td>\n",
              "      <td>1</td>\n",
              "      <td>1</td>\n",
              "      <td>STON/O2. 3101282</td>\n",
              "      <td>1.0</td>\n",
              "      <td>0</td>\n",
              "      <td>2.0</td>\n",
              "      <td>3</td>\n",
              "      <td>1</td>\n",
              "    </tr>\n",
              "    <tr>\n",
              "      <th>3</th>\n",
              "      <td>1</td>\n",
              "      <td>1</td>\n",
              "      <td>1</td>\n",
              "      <td>2</td>\n",
              "      <td>113803</td>\n",
              "      <td>3.0</td>\n",
              "      <td>0</td>\n",
              "      <td>3.0</td>\n",
              "      <td>2</td>\n",
              "      <td>0</td>\n",
              "    </tr>\n",
              "    <tr>\n",
              "      <th>4</th>\n",
              "      <td>0</td>\n",
              "      <td>3</td>\n",
              "      <td>0</td>\n",
              "      <td>2</td>\n",
              "      <td>373450</td>\n",
              "      <td>1.0</td>\n",
              "      <td>0</td>\n",
              "      <td>1.0</td>\n",
              "      <td>6</td>\n",
              "      <td>1</td>\n",
              "    </tr>\n",
              "  </tbody>\n",
              "</table>\n",
              "</div>"
            ],
            "text/plain": [
              "   survived  pclass  sex  age  ... embarked  title  age*class  isalone\n",
              "0         0       3    0    1  ...        0    1.0          3        0\n",
              "1         1       1    1    2  ...        1    3.0          2        0\n",
              "2         1       3    1    1  ...        0    2.0          3        1\n",
              "3         1       1    1    2  ...        0    3.0          2        0\n",
              "4         0       3    0    2  ...        0    1.0          6        1\n",
              "\n",
              "[5 rows x 10 columns]"
            ]
          },
          "metadata": {
            "tags": []
          },
          "execution_count": 11
        }
      ]
    },
    {
      "cell_type": "code",
      "metadata": {
        "colab": {
          "base_uri": "https://localhost:8080/",
          "height": 204
        },
        "id": "UYnYdQhHeFHL",
        "outputId": "da97647f-9ec0-484f-cfb9-2b2f2c1b2642"
      },
      "source": [
        "train_original = train_original.drop(['ticket'], axis=1)\n",
        "test_original = test_original.drop(['ticket'], axis=1)\n",
        "train_original.head()"
      ],
      "execution_count": 12,
      "outputs": [
        {
          "output_type": "execute_result",
          "data": {
            "text/html": [
              "<div>\n",
              "<style scoped>\n",
              "    .dataframe tbody tr th:only-of-type {\n",
              "        vertical-align: middle;\n",
              "    }\n",
              "\n",
              "    .dataframe tbody tr th {\n",
              "        vertical-align: top;\n",
              "    }\n",
              "\n",
              "    .dataframe thead th {\n",
              "        text-align: right;\n",
              "    }\n",
              "</style>\n",
              "<table border=\"1\" class=\"dataframe\">\n",
              "  <thead>\n",
              "    <tr style=\"text-align: right;\">\n",
              "      <th></th>\n",
              "      <th>survived</th>\n",
              "      <th>pclass</th>\n",
              "      <th>sex</th>\n",
              "      <th>age</th>\n",
              "      <th>fare</th>\n",
              "      <th>embarked</th>\n",
              "      <th>title</th>\n",
              "      <th>age*class</th>\n",
              "      <th>isalone</th>\n",
              "    </tr>\n",
              "  </thead>\n",
              "  <tbody>\n",
              "    <tr>\n",
              "      <th>0</th>\n",
              "      <td>0</td>\n",
              "      <td>3</td>\n",
              "      <td>0</td>\n",
              "      <td>1</td>\n",
              "      <td>0.0</td>\n",
              "      <td>0</td>\n",
              "      <td>1.0</td>\n",
              "      <td>3</td>\n",
              "      <td>0</td>\n",
              "    </tr>\n",
              "    <tr>\n",
              "      <th>1</th>\n",
              "      <td>1</td>\n",
              "      <td>1</td>\n",
              "      <td>1</td>\n",
              "      <td>2</td>\n",
              "      <td>3.0</td>\n",
              "      <td>1</td>\n",
              "      <td>3.0</td>\n",
              "      <td>2</td>\n",
              "      <td>0</td>\n",
              "    </tr>\n",
              "    <tr>\n",
              "      <th>2</th>\n",
              "      <td>1</td>\n",
              "      <td>3</td>\n",
              "      <td>1</td>\n",
              "      <td>1</td>\n",
              "      <td>1.0</td>\n",
              "      <td>0</td>\n",
              "      <td>2.0</td>\n",
              "      <td>3</td>\n",
              "      <td>1</td>\n",
              "    </tr>\n",
              "    <tr>\n",
              "      <th>3</th>\n",
              "      <td>1</td>\n",
              "      <td>1</td>\n",
              "      <td>1</td>\n",
              "      <td>2</td>\n",
              "      <td>3.0</td>\n",
              "      <td>0</td>\n",
              "      <td>3.0</td>\n",
              "      <td>2</td>\n",
              "      <td>0</td>\n",
              "    </tr>\n",
              "    <tr>\n",
              "      <th>4</th>\n",
              "      <td>0</td>\n",
              "      <td>3</td>\n",
              "      <td>0</td>\n",
              "      <td>2</td>\n",
              "      <td>1.0</td>\n",
              "      <td>0</td>\n",
              "      <td>1.0</td>\n",
              "      <td>6</td>\n",
              "      <td>1</td>\n",
              "    </tr>\n",
              "  </tbody>\n",
              "</table>\n",
              "</div>"
            ],
            "text/plain": [
              "   survived  pclass  sex  age  fare  embarked  title  age*class  isalone\n",
              "0         0       3    0    1   0.0         0    1.0          3        0\n",
              "1         1       1    1    2   3.0         1    3.0          2        0\n",
              "2         1       3    1    1   1.0         0    2.0          3        1\n",
              "3         1       1    1    2   3.0         0    3.0          2        0\n",
              "4         0       3    0    2   1.0         0    1.0          6        1"
            ]
          },
          "metadata": {
            "tags": []
          },
          "execution_count": 12
        }
      ]
    },
    {
      "cell_type": "code",
      "metadata": {
        "id": "BmS2jyZUeLdE"
      },
      "source": [
        "from sklearn.tree import DecisionTreeClassifier\n",
        "from sklearn.neighbors import KNeighborsClassifier\n",
        "from sklearn.linear_model import LogisticRegression, Perceptron, SGDClassifier\n",
        "from sklearn.ensemble import AdaBoostClassifier, GradientBoostingClassifier, BaggingClassifier, RandomForestClassifier\n",
        "from xgboost import XGBClassifier\n",
        "from sklearn.svm import SVC, LinearSVC\n",
        "from sklearn.naive_bayes import GaussianNB, MultinomialNB\n",
        "\n",
        "from sklearn.model_selection import cross_validate\n",
        "from sklearn.model_selection import StratifiedKFold\n",
        "from sklearn.model_selection import RepeatedStratifiedKFold\n",
        "\n",
        "from sklearn.model_selection import RandomizedSearchCV\n",
        "from sklearn.model_selection import GridSearchCV\n",
        "\n",
        "from scipy.stats import uniform"
      ],
      "execution_count": 13,
      "outputs": []
    },
    {
      "cell_type": "code",
      "metadata": {
        "id": "TiF_D5nYfG-D"
      },
      "source": [
        "train_set = train_original.copy()\n",
        "test_set = test_original.copy()"
      ],
      "execution_count": 18,
      "outputs": []
    },
    {
      "cell_type": "code",
      "metadata": {
        "colab": {
          "base_uri": "https://localhost:8080/",
          "height": 204
        },
        "id": "m3mIvs5ufNT9",
        "outputId": "5b7c5667-82c8-490b-d8a3-2d6845a5bec4"
      },
      "source": [
        "targets = list(train_set['survived'])\n",
        "train_set.drop(['survived'], axis = 1, inplace = True)\n",
        "train_set.head()"
      ],
      "execution_count": 19,
      "outputs": [
        {
          "output_type": "execute_result",
          "data": {
            "text/html": [
              "<div>\n",
              "<style scoped>\n",
              "    .dataframe tbody tr th:only-of-type {\n",
              "        vertical-align: middle;\n",
              "    }\n",
              "\n",
              "    .dataframe tbody tr th {\n",
              "        vertical-align: top;\n",
              "    }\n",
              "\n",
              "    .dataframe thead th {\n",
              "        text-align: right;\n",
              "    }\n",
              "</style>\n",
              "<table border=\"1\" class=\"dataframe\">\n",
              "  <thead>\n",
              "    <tr style=\"text-align: right;\">\n",
              "      <th></th>\n",
              "      <th>pclass</th>\n",
              "      <th>sex</th>\n",
              "      <th>age</th>\n",
              "      <th>fare</th>\n",
              "      <th>embarked</th>\n",
              "      <th>title</th>\n",
              "      <th>age*class</th>\n",
              "      <th>isalone</th>\n",
              "    </tr>\n",
              "  </thead>\n",
              "  <tbody>\n",
              "    <tr>\n",
              "      <th>0</th>\n",
              "      <td>3</td>\n",
              "      <td>0</td>\n",
              "      <td>1</td>\n",
              "      <td>0.0</td>\n",
              "      <td>0</td>\n",
              "      <td>1.0</td>\n",
              "      <td>3</td>\n",
              "      <td>0</td>\n",
              "    </tr>\n",
              "    <tr>\n",
              "      <th>1</th>\n",
              "      <td>1</td>\n",
              "      <td>1</td>\n",
              "      <td>2</td>\n",
              "      <td>3.0</td>\n",
              "      <td>1</td>\n",
              "      <td>3.0</td>\n",
              "      <td>2</td>\n",
              "      <td>0</td>\n",
              "    </tr>\n",
              "    <tr>\n",
              "      <th>2</th>\n",
              "      <td>3</td>\n",
              "      <td>1</td>\n",
              "      <td>1</td>\n",
              "      <td>1.0</td>\n",
              "      <td>0</td>\n",
              "      <td>2.0</td>\n",
              "      <td>3</td>\n",
              "      <td>1</td>\n",
              "    </tr>\n",
              "    <tr>\n",
              "      <th>3</th>\n",
              "      <td>1</td>\n",
              "      <td>1</td>\n",
              "      <td>2</td>\n",
              "      <td>3.0</td>\n",
              "      <td>0</td>\n",
              "      <td>3.0</td>\n",
              "      <td>2</td>\n",
              "      <td>0</td>\n",
              "    </tr>\n",
              "    <tr>\n",
              "      <th>4</th>\n",
              "      <td>3</td>\n",
              "      <td>0</td>\n",
              "      <td>2</td>\n",
              "      <td>1.0</td>\n",
              "      <td>0</td>\n",
              "      <td>1.0</td>\n",
              "      <td>6</td>\n",
              "      <td>1</td>\n",
              "    </tr>\n",
              "  </tbody>\n",
              "</table>\n",
              "</div>"
            ],
            "text/plain": [
              "   pclass  sex  age  fare  embarked  title  age*class  isalone\n",
              "0       3    0    1   0.0         0    1.0          3        0\n",
              "1       1    1    2   3.0         1    3.0          2        0\n",
              "2       3    1    1   1.0         0    2.0          3        1\n",
              "3       1    1    2   3.0         0    3.0          2        0\n",
              "4       3    0    2   1.0         0    1.0          6        1"
            ]
          },
          "metadata": {
            "tags": []
          },
          "execution_count": 19
        }
      ]
    },
    {
      "cell_type": "code",
      "metadata": {
        "id": "Ue2pssnPfS1z"
      },
      "source": [
        "def train_with_grid(modelo, parametros, sc, validacao):\n",
        "  print('Tunnig with grid search')\n",
        "  grid_search = GridSearchCV(modelo, \n",
        "                              param_grid = parametros,\n",
        "                              scoring = sc, \n",
        "                              cv = validacao, \n",
        "                              verbose = 1, \n",
        "                              n_jobs = -1)\n",
        "\n",
        "  return grid_search\n",
        "\n",
        "def train_with_random_search(modelo, parametros, sc, validacao):\n",
        "  n_iter = 30\n",
        "  print('Tunnig with random search')\n",
        "  randomized_search = RandomizedSearchCV(modelo, \n",
        "                                           param_distributions = parametros,\n",
        "                                           scoring = sc, \n",
        "                                           cv = validacao,\n",
        "                                           n_iter = n_iter, \n",
        "                                           verbose = 1, \n",
        "                                           n_jobs = -1)\n",
        "  return randomized_search\n",
        "\n",
        "def train_with_tunning(modelo, parametros, validacao, treino, targets, random_tunnig=True, sc='balanced_accuracy'):\n",
        "    \n",
        "    if (random_tunnig):\n",
        "      model_tunned = train_with_random_search(modelo, parametros, sc, validacao)\n",
        "    else:\n",
        "      model_tunned = train_with_grid(modelo, parametros, sc, validacao)\n",
        "    model_tunned.fit(treino, targets) \n",
        "    \n",
        "    print('Acuracia: {:.4f}'.format(model_tunned.best_score_))\n",
        "    print('Melhores parâmetros: {}'.format(model_tunned.best_params_))\n",
        "    return model_tunned"
      ],
      "execution_count": 21,
      "outputs": []
    },
    {
      "cell_type": "code",
      "metadata": {
        "id": "7hT3l4gRfkTz"
      },
      "source": [
        "log_regression_parameters = dict(C=uniform(loc=0, scale=4), penalty=['l1', 'l2'])\n",
        "\n",
        "sgd_parameters = {\n",
        "    'average': [True, False]\n",
        "    }\n",
        "\n",
        "knn_parameters = {\n",
        "    'n_neighbors' : np.arange(1, 50, 2)\n",
        "    }\n",
        "\n",
        "tree_parameters = {\n",
        "    'max_depth' : np.arange(1,11), \n",
        "    'min_samples_split': np.arange(2,12),\n",
        "    'min_samples_leaf': np.arange(1,11),\n",
        "    }\n",
        "\n",
        "rand_forest_parameters = {   \n",
        "    'max_depth' : [14, 16, 18, 20],\n",
        "    'n_estimators': [140, 150, 160],\n",
        "    'max_features': ['sqrt', 'auto', 'log2'],\n",
        "    'min_samples_split': [7, 9, 11],\n",
        "    'min_samples_leaf': [1, 2],\n",
        "    'bootstrap': [True, False]\n",
        "    }"
      ],
      "execution_count": 22,
      "outputs": []
    },
    {
      "cell_type": "code",
      "metadata": {
        "id": "bWWFO7fUfo9k"
      },
      "source": [
        "all_predictions = []\n",
        "all_predictions.append({'name':'knn', 'model': KNeighborsClassifier(), 'parameters':knn_parameters, 'score': 0.0,'best_parameters': None, 'predictor': None})\n",
        "all_predictions.append({'name':'tree', 'model': DecisionTreeClassifier(),  'parameters':tree_parameters,  'score': 0.0, 'best_parameters': None, 'predictor': None})\n",
        "all_predictions.append({'name':'random forest', 'model': RandomForestClassifier(), 'parameters':rand_forest_parameters, 'score': 0.0,'best_parameters': None,'predictor': None})\n",
        "all_predictions.append({'name':'SGDClassifier', 'model': SGDClassifier(), 'parameters':sgd_parameters, 'score': 0.0,'best_parameters': None,'predictor': None})\n",
        "all_predictions.append({'name':'Logistic Regression', 'model': LogisticRegression(), 'parameters':log_regression_parameters, 'score': 0.0,'best_parameters': None,'predictor': None})\n",
        "all_predictions.append({'name':'SVC', 'model': SVC(), 'parameters':{}, 'score': 0.0,'best_parameters': None,'predictor': None})\n",
        "all_predictions.append({'name':'LinearSVC', 'model': LinearSVC(), 'parameters':{}, 'score': 0.0,'best_parameters': None,'predictor': None})\n",
        "all_predictions.append({'name':'XGBClassifier', 'model': XGBClassifier(), 'parameters':{}, 'score': 0.0,'best_parameters': None,'predictor': None})\n",
        "all_predictions.append({'name':'GaussianNB', 'model': GaussianNB(), 'parameters':{}, 'score': 0.0,'best_parameters': None,'predictor': None})\n",
        "all_predictions.append({'name':'AdaBoostClassifier', 'model': AdaBoostClassifier(), 'parameters':{}, 'score': 0.0,'best_parameters': None,'predictor': None})\n",
        "all_predictions.append({'name':'GradientBoostingClassifier', 'model': GradientBoostingClassifier(), 'parameters':{}, 'score': 0.0,'best_parameters': None,'predictor': None})\n",
        "all_predictions.append({'name':'Perceptron', 'model': Perceptron(), 'parameters':{}, 'score': 0.0,'best_parameters': None,'predictor': None})\n",
        "all_predictions.append({'name':'BaggingClassifier', 'model': BaggingClassifier(), 'parameters':{}, 'score': 0.0,'best_parameters': None,'predictor': None})"
      ],
      "execution_count": 23,
      "outputs": []
    },
    {
      "cell_type": "code",
      "metadata": {
        "colab": {
          "base_uri": "https://localhost:8080/"
        },
        "id": "l-eYHuK-frZk",
        "outputId": "9fadccef-4bf6-41b3-abf5-a9758b1d2404"
      },
      "source": [
        "import time\n",
        "\n",
        "## ['accuracy', 'recall', 'precision', 'balanced_accuracy', 'f1']\n",
        "sc = 'accuracy'\n",
        "cv = RepeatedStratifiedKFold(n_splits = 10, n_repeats = 10)\n",
        "random_tunnig = True\n",
        "\n",
        "for predictor in all_predictions:\n",
        "  initial_time = time.time()\n",
        "\n",
        "  print('Name: {}'.format(predictor['name']))\n",
        "\n",
        "  result = train_with_tunning(predictor['model'], \n",
        "                              predictor['parameters'], \n",
        "                              cv, \n",
        "                              train_set, \n",
        "                              targets, \n",
        "                              random_tunnig, \n",
        "                              sc)\n",
        "  \n",
        "  predictor['score'] = result.best_score_\n",
        "  predictor['best_parameters'] = result.best_params_\n",
        "  predictor['predictor'] = result\n",
        "  end_time = time.time()\n",
        "  print('tempo gasto: {}s'.format(end_time - initial_time))\n",
        "  print('*'*100)"
      ],
      "execution_count": 25,
      "outputs": [
        {
          "output_type": "stream",
          "text": [
            "Name: knn\n",
            "Tunnig with random search\n",
            "Fitting 100 folds for each of 25 candidates, totalling 2500 fits\n"
          ],
          "name": "stdout"
        },
        {
          "output_type": "stream",
          "text": [
            "/usr/local/lib/python3.6/dist-packages/sklearn/model_selection/_search.py:281: UserWarning: The total space of parameters 25 is smaller than n_iter=30. Running 25 iterations. For exhaustive searches, use GridSearchCV.\n",
            "  % (grid_size, self.n_iter, grid_size), UserWarning)\n",
            "[Parallel(n_jobs=-1)]: Using backend LokyBackend with 2 concurrent workers.\n",
            "[Parallel(n_jobs=-1)]: Done 330 tasks      | elapsed:    4.0s\n",
            "[Parallel(n_jobs=-1)]: Done 2490 tasks      | elapsed:   20.4s\n",
            "[Parallel(n_jobs=-1)]: Done 2500 out of 2500 | elapsed:   20.5s finished\n",
            "[Parallel(n_jobs=-1)]: Using backend LokyBackend with 2 concurrent workers.\n"
          ],
          "name": "stderr"
        },
        {
          "output_type": "stream",
          "text": [
            "Acuracia: 0.8091\n",
            "Melhores parâmetros: {'n_neighbors': 5}\n",
            "tempo gasto: 20.53113317489624s\n",
            "****************************************************************************************************\n",
            "Name: tree\n",
            "Tunnig with random search\n",
            "Fitting 100 folds for each of 30 candidates, totalling 3000 fits\n"
          ],
          "name": "stdout"
        },
        {
          "output_type": "stream",
          "text": [
            "[Parallel(n_jobs=-1)]: Done 956 tasks      | elapsed:    3.4s\n",
            "[Parallel(n_jobs=-1)]: Done 2997 out of 3000 | elapsed:   10.4s remaining:    0.0s\n",
            "[Parallel(n_jobs=-1)]: Done 3000 out of 3000 | elapsed:   10.4s finished\n",
            "[Parallel(n_jobs=-1)]: Using backend LokyBackend with 2 concurrent workers.\n"
          ],
          "name": "stderr"
        },
        {
          "output_type": "stream",
          "text": [
            "Acuracia: 0.8101\n",
            "Melhores parâmetros: {'min_samples_split': 6, 'min_samples_leaf': 3, 'max_depth': 9}\n",
            "tempo gasto: 10.491689443588257s\n",
            "****************************************************************************************************\n",
            "Name: random forest\n",
            "Tunnig with random search\n",
            "Fitting 100 folds for each of 30 candidates, totalling 3000 fits\n"
          ],
          "name": "stdout"
        },
        {
          "output_type": "stream",
          "text": [
            "[Parallel(n_jobs=-1)]: Done  46 tasks      | elapsed:   11.1s\n",
            "[Parallel(n_jobs=-1)]: Done 196 tasks      | elapsed:   45.3s\n",
            "[Parallel(n_jobs=-1)]: Done 446 tasks      | elapsed:  1.5min\n",
            "[Parallel(n_jobs=-1)]: Done 796 tasks      | elapsed:  2.6min\n",
            "[Parallel(n_jobs=-1)]: Done 1246 tasks      | elapsed:  4.1min\n",
            "[Parallel(n_jobs=-1)]: Done 1796 tasks      | elapsed:  6.1min\n",
            "[Parallel(n_jobs=-1)]: Done 2446 tasks      | elapsed:  8.1min\n",
            "[Parallel(n_jobs=-1)]: Done 3000 out of 3000 | elapsed:  9.9min finished\n"
          ],
          "name": "stderr"
        },
        {
          "output_type": "stream",
          "text": [
            "Acuracia: 0.8169\n",
            "Melhores parâmetros: {'n_estimators': 140, 'min_samples_split': 7, 'min_samples_leaf': 1, 'max_features': 'log2', 'max_depth': 14, 'bootstrap': True}\n",
            "tempo gasto: 592.7094421386719s\n",
            "****************************************************************************************************\n",
            "Name: SGDClassifier\n",
            "Tunnig with random search\n",
            "Fitting 100 folds for each of 2 candidates, totalling 200 fits\n"
          ],
          "name": "stdout"
        },
        {
          "output_type": "stream",
          "text": [
            "/usr/local/lib/python3.6/dist-packages/sklearn/model_selection/_search.py:281: UserWarning: The total space of parameters 2 is smaller than n_iter=30. Running 2 iterations. For exhaustive searches, use GridSearchCV.\n",
            "  % (grid_size, self.n_iter, grid_size), UserWarning)\n",
            "[Parallel(n_jobs=-1)]: Using backend LokyBackend with 2 concurrent workers.\n",
            "[Parallel(n_jobs=-1)]: Done 200 out of 200 | elapsed:    1.4s finished\n",
            "[Parallel(n_jobs=-1)]: Using backend LokyBackend with 2 concurrent workers.\n"
          ],
          "name": "stderr"
        },
        {
          "output_type": "stream",
          "text": [
            "Acuracia: 0.8091\n",
            "Melhores parâmetros: {'average': True}\n",
            "tempo gasto: 1.4634225368499756s\n",
            "****************************************************************************************************\n",
            "Name: Logistic Regression\n",
            "Tunnig with random search\n",
            "Fitting 100 folds for each of 30 candidates, totalling 3000 fits\n"
          ],
          "name": "stdout"
        },
        {
          "output_type": "stream",
          "text": [
            "[Parallel(n_jobs=-1)]: Done 300 tasks      | elapsed:    3.8s\n",
            "[Parallel(n_jobs=-1)]: Done 3000 out of 3000 | elapsed:   22.9s finished\n",
            "/usr/local/lib/python3.6/dist-packages/sklearn/model_selection/_search.py:281: UserWarning: The total space of parameters 1 is smaller than n_iter=30. Running 1 iterations. For exhaustive searches, use GridSearchCV.\n",
            "  % (grid_size, self.n_iter, grid_size), UserWarning)\n",
            "[Parallel(n_jobs=-1)]: Using backend LokyBackend with 2 concurrent workers.\n"
          ],
          "name": "stderr"
        },
        {
          "output_type": "stream",
          "text": [
            "Acuracia: 0.8078\n",
            "Melhores parâmetros: {'C': 0.5042850493218114, 'penalty': 'l2'}\n",
            "tempo gasto: 22.93994140625s\n",
            "****************************************************************************************************\n",
            "Name: SVC\n",
            "Tunnig with random search\n",
            "Fitting 100 folds for each of 1 candidates, totalling 100 fits\n"
          ],
          "name": "stdout"
        },
        {
          "output_type": "stream",
          "text": [
            "[Parallel(n_jobs=-1)]: Done 100 out of 100 | elapsed:    1.9s finished\n",
            "/usr/local/lib/python3.6/dist-packages/sklearn/model_selection/_search.py:281: UserWarning: The total space of parameters 1 is smaller than n_iter=30. Running 1 iterations. For exhaustive searches, use GridSearchCV.\n",
            "  % (grid_size, self.n_iter, grid_size), UserWarning)\n",
            "[Parallel(n_jobs=-1)]: Using backend LokyBackend with 2 concurrent workers.\n"
          ],
          "name": "stderr"
        },
        {
          "output_type": "stream",
          "text": [
            "Acuracia: 0.8127\n",
            "Melhores parâmetros: {}\n",
            "tempo gasto: 1.9578227996826172s\n",
            "****************************************************************************************************\n",
            "Name: LinearSVC\n",
            "Tunnig with random search\n",
            "Fitting 100 folds for each of 1 candidates, totalling 100 fits\n"
          ],
          "name": "stdout"
        },
        {
          "output_type": "stream",
          "text": [
            "[Parallel(n_jobs=-1)]: Done  88 tasks      | elapsed:    2.9s\n",
            "[Parallel(n_jobs=-1)]: Done 100 out of 100 | elapsed:    3.3s finished\n",
            "/usr/local/lib/python3.6/dist-packages/sklearn/svm/_base.py:947: ConvergenceWarning: Liblinear failed to converge, increase the number of iterations.\n",
            "  \"the number of iterations.\", ConvergenceWarning)\n",
            "/usr/local/lib/python3.6/dist-packages/sklearn/model_selection/_search.py:281: UserWarning: The total space of parameters 1 is smaller than n_iter=30. Running 1 iterations. For exhaustive searches, use GridSearchCV.\n",
            "  % (grid_size, self.n_iter, grid_size), UserWarning)\n",
            "[Parallel(n_jobs=-1)]: Using backend LokyBackend with 2 concurrent workers.\n"
          ],
          "name": "stderr"
        },
        {
          "output_type": "stream",
          "text": [
            "Acuracia: 0.8052\n",
            "Melhores parâmetros: {}\n",
            "tempo gasto: 3.3625097274780273s\n",
            "****************************************************************************************************\n",
            "Name: XGBClassifier\n",
            "Tunnig with random search\n",
            "Fitting 100 folds for each of 1 candidates, totalling 100 fits\n"
          ],
          "name": "stdout"
        },
        {
          "output_type": "stream",
          "text": [
            "[Parallel(n_jobs=-1)]: Done  78 tasks      | elapsed:    3.4s\n",
            "[Parallel(n_jobs=-1)]: Done 100 out of 100 | elapsed:    4.2s finished\n",
            "/usr/local/lib/python3.6/dist-packages/sklearn/model_selection/_search.py:281: UserWarning: The total space of parameters 1 is smaller than n_iter=30. Running 1 iterations. For exhaustive searches, use GridSearchCV.\n",
            "  % (grid_size, self.n_iter, grid_size), UserWarning)\n",
            "[Parallel(n_jobs=-1)]: Using backend LokyBackend with 2 concurrent workers.\n"
          ],
          "name": "stderr"
        },
        {
          "output_type": "stream",
          "text": [
            "Acuracia: 0.8148\n",
            "Melhores parâmetros: {}\n",
            "tempo gasto: 4.3043835163116455s\n",
            "****************************************************************************************************\n",
            "Name: GaussianNB\n",
            "Tunnig with random search\n",
            "Fitting 100 folds for each of 1 candidates, totalling 100 fits\n"
          ],
          "name": "stdout"
        },
        {
          "output_type": "stream",
          "text": [
            "[Parallel(n_jobs=-1)]: Done 100 out of 100 | elapsed:    0.4s finished\n",
            "/usr/local/lib/python3.6/dist-packages/sklearn/model_selection/_search.py:281: UserWarning: The total space of parameters 1 is smaller than n_iter=30. Running 1 iterations. For exhaustive searches, use GridSearchCV.\n",
            "  % (grid_size, self.n_iter, grid_size), UserWarning)\n",
            "[Parallel(n_jobs=-1)]: Using backend LokyBackend with 2 concurrent workers.\n"
          ],
          "name": "stderr"
        },
        {
          "output_type": "stream",
          "text": [
            "Acuracia: 0.7771\n",
            "Melhores parâmetros: {}\n",
            "tempo gasto: 0.439166784286499s\n",
            "****************************************************************************************************\n",
            "Name: AdaBoostClassifier\n",
            "Tunnig with random search\n",
            "Fitting 100 folds for each of 1 candidates, totalling 100 fits\n"
          ],
          "name": "stdout"
        },
        {
          "output_type": "stream",
          "text": [
            "[Parallel(n_jobs=-1)]: Done  88 tasks      | elapsed:    7.0s\n",
            "[Parallel(n_jobs=-1)]: Done 100 out of 100 | elapsed:    8.0s finished\n",
            "/usr/local/lib/python3.6/dist-packages/sklearn/model_selection/_search.py:281: UserWarning: The total space of parameters 1 is smaller than n_iter=30. Running 1 iterations. For exhaustive searches, use GridSearchCV.\n",
            "  % (grid_size, self.n_iter, grid_size), UserWarning)\n",
            "[Parallel(n_jobs=-1)]: Using backend LokyBackend with 2 concurrent workers.\n"
          ],
          "name": "stderr"
        },
        {
          "output_type": "stream",
          "text": [
            "Acuracia: 0.8073\n",
            "Melhores parâmetros: {}\n",
            "tempo gasto: 8.103304862976074s\n",
            "****************************************************************************************************\n",
            "Name: GradientBoostingClassifier\n",
            "Tunnig with random search\n",
            "Fitting 100 folds for each of 1 candidates, totalling 100 fits\n"
          ],
          "name": "stdout"
        },
        {
          "output_type": "stream",
          "text": [
            "[Parallel(n_jobs=-1)]: Done  88 tasks      | elapsed:    7.3s\n",
            "[Parallel(n_jobs=-1)]: Done 100 out of 100 | elapsed:    8.2s finished\n",
            "/usr/local/lib/python3.6/dist-packages/sklearn/model_selection/_search.py:281: UserWarning: The total space of parameters 1 is smaller than n_iter=30. Running 1 iterations. For exhaustive searches, use GridSearchCV.\n",
            "  % (grid_size, self.n_iter, grid_size), UserWarning)\n",
            "[Parallel(n_jobs=-1)]: Using backend LokyBackend with 2 concurrent workers.\n"
          ],
          "name": "stderr"
        },
        {
          "output_type": "stream",
          "text": [
            "Acuracia: 0.8146\n",
            "Melhores parâmetros: {}\n",
            "tempo gasto: 8.321455240249634s\n",
            "****************************************************************************************************\n",
            "Name: Perceptron\n",
            "Tunnig with random search\n",
            "Fitting 100 folds for each of 1 candidates, totalling 100 fits\n"
          ],
          "name": "stdout"
        },
        {
          "output_type": "stream",
          "text": [
            "[Parallel(n_jobs=-1)]: Done 100 out of 100 | elapsed:    0.5s finished\n",
            "/usr/local/lib/python3.6/dist-packages/sklearn/model_selection/_search.py:281: UserWarning: The total space of parameters 1 is smaller than n_iter=30. Running 1 iterations. For exhaustive searches, use GridSearchCV.\n",
            "  % (grid_size, self.n_iter, grid_size), UserWarning)\n",
            "[Parallel(n_jobs=-1)]: Using backend LokyBackend with 2 concurrent workers.\n"
          ],
          "name": "stderr"
        },
        {
          "output_type": "stream",
          "text": [
            "Acuracia: 0.7419\n",
            "Melhores parâmetros: {}\n",
            "tempo gasto: 0.5090768337249756s\n",
            "****************************************************************************************************\n",
            "Name: BaggingClassifier\n",
            "Tunnig with random search\n",
            "Fitting 100 folds for each of 1 candidates, totalling 100 fits\n",
            "Acuracia: 0.8114\n",
            "Melhores parâmetros: {}\n",
            "tempo gasto: 2.115589141845703s\n",
            "****************************************************************************************************\n"
          ],
          "name": "stdout"
        },
        {
          "output_type": "stream",
          "text": [
            "[Parallel(n_jobs=-1)]: Done 100 out of 100 | elapsed:    2.1s finished\n"
          ],
          "name": "stderr"
        }
      ]
    },
    {
      "cell_type": "code",
      "metadata": {
        "colab": {
          "base_uri": "https://localhost:8080/",
          "height": 452
        },
        "id": "jr8trma9f3dj",
        "outputId": "70be30a6-d696-4287-c3d7-121641bd4f26"
      },
      "source": [
        "models_results = pd.DataFrame(all_predictions)\n",
        "models_results = models_results.sort_values(by='score', ascending=False)\n",
        "models_results"
      ],
      "execution_count": 26,
      "outputs": [
        {
          "output_type": "execute_result",
          "data": {
            "text/html": [
              "<div>\n",
              "<style scoped>\n",
              "    .dataframe tbody tr th:only-of-type {\n",
              "        vertical-align: middle;\n",
              "    }\n",
              "\n",
              "    .dataframe tbody tr th {\n",
              "        vertical-align: top;\n",
              "    }\n",
              "\n",
              "    .dataframe thead th {\n",
              "        text-align: right;\n",
              "    }\n",
              "</style>\n",
              "<table border=\"1\" class=\"dataframe\">\n",
              "  <thead>\n",
              "    <tr style=\"text-align: right;\">\n",
              "      <th></th>\n",
              "      <th>name</th>\n",
              "      <th>model</th>\n",
              "      <th>parameters</th>\n",
              "      <th>score</th>\n",
              "      <th>best_parameters</th>\n",
              "      <th>predictor</th>\n",
              "    </tr>\n",
              "  </thead>\n",
              "  <tbody>\n",
              "    <tr>\n",
              "      <th>2</th>\n",
              "      <td>random forest</td>\n",
              "      <td>RandomForestClassifier(bootstrap=True, ccp_alp...</td>\n",
              "      <td>{'max_depth': [14, 16, 18, 20], 'n_estimators'...</td>\n",
              "      <td>0.816860</td>\n",
              "      <td>{'n_estimators': 140, 'min_samples_split': 7, ...</td>\n",
              "      <td>RandomizedSearchCV(cv=RepeatedStratifiedKFold(...</td>\n",
              "    </tr>\n",
              "    <tr>\n",
              "      <th>7</th>\n",
              "      <td>XGBClassifier</td>\n",
              "      <td>XGBClassifier(base_score=0.5, booster='gbtree'...</td>\n",
              "      <td>{}</td>\n",
              "      <td>0.814824</td>\n",
              "      <td>{}</td>\n",
              "      <td>RandomizedSearchCV(cv=RepeatedStratifiedKFold(...</td>\n",
              "    </tr>\n",
              "    <tr>\n",
              "      <th>10</th>\n",
              "      <td>GradientBoostingClassifier</td>\n",
              "      <td>GradientBoostingClassifier(ccp_alpha=0.0, crit...</td>\n",
              "      <td>{}</td>\n",
              "      <td>0.814578</td>\n",
              "      <td>{}</td>\n",
              "      <td>RandomizedSearchCV(cv=RepeatedStratifiedKFold(...</td>\n",
              "    </tr>\n",
              "    <tr>\n",
              "      <th>5</th>\n",
              "      <td>SVC</td>\n",
              "      <td>SVC(C=1.0, break_ties=False, cache_size=200, c...</td>\n",
              "      <td>{}</td>\n",
              "      <td>0.812688</td>\n",
              "      <td>{}</td>\n",
              "      <td>RandomizedSearchCV(cv=RepeatedStratifiedKFold(...</td>\n",
              "    </tr>\n",
              "    <tr>\n",
              "      <th>12</th>\n",
              "      <td>BaggingClassifier</td>\n",
              "      <td>BaggingClassifier(base_estimator=None, bootstr...</td>\n",
              "      <td>{}</td>\n",
              "      <td>0.811436</td>\n",
              "      <td>{}</td>\n",
              "      <td>RandomizedSearchCV(cv=RepeatedStratifiedKFold(...</td>\n",
              "    </tr>\n",
              "    <tr>\n",
              "      <th>1</th>\n",
              "      <td>tree</td>\n",
              "      <td>DecisionTreeClassifier(ccp_alpha=0.0, class_we...</td>\n",
              "      <td>{'max_depth': [1, 2, 3, 4, 5, 6, 7, 8, 9, 10],...</td>\n",
              "      <td>0.810099</td>\n",
              "      <td>{'min_samples_split': 6, 'min_samples_leaf': 3...</td>\n",
              "      <td>RandomizedSearchCV(cv=RepeatedStratifiedKFold(...</td>\n",
              "    </tr>\n",
              "    <tr>\n",
              "      <th>3</th>\n",
              "      <td>SGDClassifier</td>\n",
              "      <td>SGDClassifier(alpha=0.0001, average=False, cla...</td>\n",
              "      <td>{'average': [True, False]}</td>\n",
              "      <td>0.809111</td>\n",
              "      <td>{'average': True}</td>\n",
              "      <td>RandomizedSearchCV(cv=RepeatedStratifiedKFold(...</td>\n",
              "    </tr>\n",
              "    <tr>\n",
              "      <th>0</th>\n",
              "      <td>knn</td>\n",
              "      <td>KNeighborsClassifier(algorithm='auto', leaf_si...</td>\n",
              "      <td>{'n_neighbors': [1, 3, 5, 7, 9, 11, 13, 15, 17...</td>\n",
              "      <td>0.809090</td>\n",
              "      <td>{'n_neighbors': 5}</td>\n",
              "      <td>RandomizedSearchCV(cv=RepeatedStratifiedKFold(...</td>\n",
              "    </tr>\n",
              "    <tr>\n",
              "      <th>4</th>\n",
              "      <td>Logistic Regression</td>\n",
              "      <td>LogisticRegression(C=1.0, class_weight=None, d...</td>\n",
              "      <td>{'C': &lt;scipy.stats._distn_infrastructure.rv_fr...</td>\n",
              "      <td>0.807784</td>\n",
              "      <td>{'C': 0.5042850493218114, 'penalty': 'l2'}</td>\n",
              "      <td>RandomizedSearchCV(cv=RepeatedStratifiedKFold(...</td>\n",
              "    </tr>\n",
              "    <tr>\n",
              "      <th>9</th>\n",
              "      <td>AdaBoostClassifier</td>\n",
              "      <td>AdaBoostClassifier(algorithm='SAMME.R', base_e...</td>\n",
              "      <td>{}</td>\n",
              "      <td>0.807297</td>\n",
              "      <td>{}</td>\n",
              "      <td>RandomizedSearchCV(cv=RepeatedStratifiedKFold(...</td>\n",
              "    </tr>\n",
              "    <tr>\n",
              "      <th>6</th>\n",
              "      <td>LinearSVC</td>\n",
              "      <td>LinearSVC(C=1.0, class_weight=None, dual=True,...</td>\n",
              "      <td>{}</td>\n",
              "      <td>0.805151</td>\n",
              "      <td>{}</td>\n",
              "      <td>RandomizedSearchCV(cv=RepeatedStratifiedKFold(...</td>\n",
              "    </tr>\n",
              "    <tr>\n",
              "      <th>8</th>\n",
              "      <td>GaussianNB</td>\n",
              "      <td>GaussianNB(priors=None, var_smoothing=1e-09)</td>\n",
              "      <td>{}</td>\n",
              "      <td>0.777129</td>\n",
              "      <td>{}</td>\n",
              "      <td>RandomizedSearchCV(cv=RepeatedStratifiedKFold(...</td>\n",
              "    </tr>\n",
              "    <tr>\n",
              "      <th>11</th>\n",
              "      <td>Perceptron</td>\n",
              "      <td>Perceptron(alpha=0.0001, class_weight=None, ea...</td>\n",
              "      <td>{}</td>\n",
              "      <td>0.741888</td>\n",
              "      <td>{}</td>\n",
              "      <td>RandomizedSearchCV(cv=RepeatedStratifiedKFold(...</td>\n",
              "    </tr>\n",
              "  </tbody>\n",
              "</table>\n",
              "</div>"
            ],
            "text/plain": [
              "                          name  ...                                          predictor\n",
              "2                random forest  ...  RandomizedSearchCV(cv=RepeatedStratifiedKFold(...\n",
              "7                XGBClassifier  ...  RandomizedSearchCV(cv=RepeatedStratifiedKFold(...\n",
              "10  GradientBoostingClassifier  ...  RandomizedSearchCV(cv=RepeatedStratifiedKFold(...\n",
              "5                          SVC  ...  RandomizedSearchCV(cv=RepeatedStratifiedKFold(...\n",
              "12           BaggingClassifier  ...  RandomizedSearchCV(cv=RepeatedStratifiedKFold(...\n",
              "1                         tree  ...  RandomizedSearchCV(cv=RepeatedStratifiedKFold(...\n",
              "3                SGDClassifier  ...  RandomizedSearchCV(cv=RepeatedStratifiedKFold(...\n",
              "0                          knn  ...  RandomizedSearchCV(cv=RepeatedStratifiedKFold(...\n",
              "4          Logistic Regression  ...  RandomizedSearchCV(cv=RepeatedStratifiedKFold(...\n",
              "9           AdaBoostClassifier  ...  RandomizedSearchCV(cv=RepeatedStratifiedKFold(...\n",
              "6                    LinearSVC  ...  RandomizedSearchCV(cv=RepeatedStratifiedKFold(...\n",
              "8                   GaussianNB  ...  RandomizedSearchCV(cv=RepeatedStratifiedKFold(...\n",
              "11                  Perceptron  ...  RandomizedSearchCV(cv=RepeatedStratifiedKFold(...\n",
              "\n",
              "[13 rows x 6 columns]"
            ]
          },
          "metadata": {
            "tags": []
          },
          "execution_count": 26
        }
      ]
    },
    {
      "cell_type": "code",
      "metadata": {
        "id": "iYHHtuA2izSc"
      },
      "source": [
        ""
      ],
      "execution_count": null,
      "outputs": []
    }
  ]
}